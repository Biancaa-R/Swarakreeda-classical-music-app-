{
 "cells": [
  {
   "cell_type": "code",
   "execution_count": 2,
   "metadata": {},
   "outputs": [
    {
     "name": "stdout",
     "output_type": "stream",
     "text": [
      " * Serving Flask app '__main__'\n",
      " * Debug mode: off\n"
     ]
    },
    {
     "name": "stderr",
     "output_type": "stream",
     "text": [
      "WARNING: This is a development server. Do not use it in a production deployment. Use a production WSGI server instead.\n",
      " * Running on http://127.0.0.1:5000\n",
      "Press CTRL+C to quit\n",
      "127.0.0.1 - - [04/Nov/2023 00:05:33] \"GET / HTTP/1.1\" 404 -\n",
      "127.0.0.1 - - [04/Nov/2023 00:05:33] \"GET /favicon.ico HTTP/1.1\" 404 -\n"
     ]
    }
   ],
   "source": [
    "from flask import Flask,request,jsonify\n",
    "from tensorflow.keras.models import load_model\n",
    "import random\n",
    "import librosa\n",
    "from sklearn.preprocessing import LabelEncoder\n",
    "import numpy as np\n",
    "import os\n",
    "\n",
    "app=Flask(__name__)\n",
    "model=load_model('audio_classification.hdf5')\n",
    "@app.route(\"/predict\",methods=[\"POST\"])\n",
    "\n",
    "\n",
    "def predict():\n",
    "    #inputing the audio file\n",
    "    audio_file=request.files[\"file\"]# gives us access to this paricular file\n",
    "    file_name=str(random.randint(0,100000)) #Random number\n",
    "    audio_file.save[file_name]# file will be stored in the working directory\n",
    "    #predictions=model.predict(file_name)\n",
    "\n",
    "    #filename=\"D:\\\\sound_recog\\\\music\\\\bhairavi\\\\Bhairavi01.wav\"\n",
    "\n",
    "    #preprocess the audio file\n",
    "    audio, sample_rate = librosa.load(file_name) \n",
    "    mfccs_features = librosa.feature.mfcc(y=audio, sr=sample_rate, n_mfcc=40)\n",
    "    mfccs_scaled_features = np.mean(mfccs_features.T,axis=0)\n",
    "    #Reshape MFCC feature to 2-D array\n",
    "    mfccs_scaled_features=mfccs_scaled_features.reshape(1,-1)\n",
    "    #predicted_label=model.predict_classes(mfccs_scaled_features)\n",
    "    x_predict=model.predict(mfccs_scaled_features) \n",
    "    predicted_label=np.argmax(x_predict,axis=1)\n",
    "    print(predicted_label)\n",
    "    #prediction_class = labelencoder.inverse_transform(predicted_label) \n",
    "    #print(prediction_class)\n",
    "    os.remove(file_name)\n",
    "\n",
    "    data={\"prediction\":predicted_label}\n",
    "    return jsonify(data)\n",
    "\n",
    "if __name__==\"__main__\":\n",
    "    app.run(debug=False)"
   ]
  },
  {
   "cell_type": "code",
   "execution_count": 4,
   "metadata": {},
   "outputs": [
    {
     "name": "stdout",
     "output_type": "stream",
     "text": [
      "1/1 [==============================] - 0s 131ms/step\n",
      "[2]\n"
     ]
    }
   ],
   "source": [
    "# Testing of model:\n",
    "\n",
    "from tensorflow.keras.models import load_model\n",
    "import librosa\n",
    "import numpy as np\n",
    "\n",
    "model=load_model('audio_classification.hdf5')\n",
    "filename=\"D:\\\\sound_recog\\\\music\\\\bhairavi\\\\Bhairavi01.wav\"\n",
    "audio, sample_rate = librosa.load(filename) \n",
    "mfccs_features = librosa.feature.mfcc(y=audio, sr=sample_rate, n_mfcc=40)\n",
    "mfccs_scaled_features = np.mean(mfccs_features.T,axis=0)\n",
    "#Reshape MFCC feature to 2-D array\n",
    "mfccs_scaled_features=mfccs_scaled_features.reshape(1,-1)\n",
    "\n",
    "x_predict=model.predict(mfccs_scaled_features) \n",
    "predicted_label=np.argmax(x_predict,axis=1)\n",
    "print(predicted_label)"
   ]
  },
  {
   "cell_type": "code",
   "execution_count": null,
   "metadata": {},
   "outputs": [],
   "source": []
  }
 ],
 "metadata": {
  "kernelspec": {
   "display_name": "base",
   "language": "python",
   "name": "python3"
  },
  "language_info": {
   "codemirror_mode": {
    "name": "ipython",
    "version": 3
   },
   "file_extension": ".py",
   "mimetype": "text/x-python",
   "name": "python",
   "nbconvert_exporter": "python",
   "pygments_lexer": "ipython3",
   "version": "3.11.4"
  }
 },
 "nbformat": 4,
 "nbformat_minor": 2
}
